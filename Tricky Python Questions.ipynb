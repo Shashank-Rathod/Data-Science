{
 "cells": [
  {
   "cell_type": "code",
   "execution_count": null,
   "metadata": {},
   "outputs": [
    {
     "name": "stdout",
     "output_type": "stream",
     "text": [
      "False\n"
     ]
    }
   ],
   "source": [
    "# 1. What will be the output of print(0.1 + 0.2 == 0.3)? Why?\n",
    "\n",
    "print(0.1 + 0.2 == 0.3) \n",
    "\n",
    "#  floating-point precision errors in Python"
   ]
  },
  {
   "cell_type": "code",
   "execution_count": 9,
   "metadata": {},
   "outputs": [
    {
     "name": "stdout",
     "output_type": "stream",
     "text": [
      "6\n",
      "9\n"
     ]
    }
   ],
   "source": [
    "# 2. How do you swap two variables without using a third variable?\n",
    "\n",
    "a = 9\n",
    "b = 6\n",
    "\n",
    "a = a+b\n",
    "b = a-b\n",
    "a = a-b\n",
    "\n",
    "print(a)\n",
    "print(b)"
   ]
  },
  {
   "cell_type": "code",
   "execution_count": null,
   "metadata": {},
   "outputs": [],
   "source": [
    "# 3. What is the difference between 'is' and '==' in Python?\n",
    "\n",
    "# \"==\" is use for compere to values.\n",
    "# \"is\" is use for compere to id."
   ]
  },
  {
   "cell_type": "code",
   "execution_count": null,
   "metadata": {},
   "outputs": [],
   "source": [
    "# 4. How does Python handle variable references and memory management?\n",
    "\n",
    "# Python uses automatic memory management through a combination of:\n",
    "\n",
    "# Reference Counting\n",
    "# Garbage Collection (GC)\n",
    "# Memory Pools (via the Python memory manager)"
   ]
  },
  {
   "cell_type": "code",
   "execution_count": null,
   "metadata": {},
   "outputs": [
    {
     "name": "stdout",
     "output_type": "stream",
     "text": [
      "False\n"
     ]
    }
   ],
   "source": [
    "# 5. What will print([] is []) return? Why?\n",
    "\n",
    "print([]is[])\n",
    "\n",
    "# because 'is' use for the compare the id and both '[]' have diffrent id in memory"
   ]
  },
  {
   "cell_type": "code",
   "execution_count": 1,
   "metadata": {},
   "outputs": [
    {
     "name": "stdout",
     "output_type": "stream",
     "text": [
      "[1, 3, 5]\n"
     ]
    }
   ],
   "source": [
    "# 6. What happens if you modify a list while iterating over it?\n",
    "\n",
    "list = [1,2,3,4,5]\n",
    "\n",
    "for x in list:\n",
    "    if x %2 == 0:\n",
    "        list.remove(x)\n",
    "print(list)"
   ]
  },
  {
   "cell_type": "code",
   "execution_count": null,
   "metadata": {},
   "outputs": [
    {
     "name": "stdout",
     "output_type": "stream",
     "text": [
      "512\n"
     ]
    }
   ],
   "source": [
    "# 7. What will be the output of print(2**3**2)? Explain.\n",
    "\n",
    "print(2** 3 **2)\n",
    "\n",
    "# '**' is use for power calculation\n",
    "#  so in python first it calcuat 3**2  then 2**9"
   ]
  },
  {
   "cell_type": "code",
   "execution_count": null,
   "metadata": {},
   "outputs": [
    {
     "name": "stdout",
     "output_type": "stream",
     "text": [
      "False\n",
      "True\n"
     ]
    }
   ],
   "source": [
    "# 8. Why does bool([]) == False but bool([False]) == True?\n",
    "\n",
    "print(bool([]))\n",
    "print(bool([False]))\n",
    "\n",
    "# because in boolean empty list python consider as False "
   ]
  },
  {
   "cell_type": "code",
   "execution_count": 17,
   "metadata": {},
   "outputs": [
    {
     "data": {
      "text/plain": [
       "\"\\n\\nif you need top level copy then you can use 'copy'\\nand you need completely inependent copy the you can use 'deepcopy'\\n\\n\""
      ]
     },
     "execution_count": 17,
     "metadata": {},
     "output_type": "execute_result"
    }
   ],
   "source": [
    "# 9. Explain the difference between deepcopy and copy.\n",
    "\n",
    "\"\"\"\n",
    "\n",
    "if you need top level copy then you can use 'copy'\n",
    "and you need completely inependent copy the you can use 'deepcopy'\n",
    "\n",
    "\"\"\""
   ]
  },
  {
   "cell_type": "code",
   "execution_count": 17,
   "metadata": {},
   "outputs": [
    {
     "name": "stdout",
     "output_type": "stream",
     "text": [
      "[5, 4, 3, 2, 1]\n"
     ]
    }
   ],
   "source": [
    "# 10. What does list(range(5, 0, -1)) return?\n",
    "print(list(range(5,0,-1)))"
   ]
  },
  {
   "cell_type": "code",
   "execution_count": null,
   "metadata": {},
   "outputs": [],
   "source": [
    "# 11. What will be the output of print('5' * 3 + 2)? Why?\n",
    "\n",
    "print('5' * 3+2)\n",
    "\n",
    "# \" '' \" is use for the string and str and int can not be perform any opretion.\n",
    "#  so '5' is not int value."
   ]
  },
  {
   "cell_type": "code",
   "execution_count": null,
   "metadata": {},
   "outputs": [
    {
     "name": "stdout",
     "output_type": "stream",
     "text": [
      "knahsahs\n"
     ]
    }
   ],
   "source": [
    "# 12. How can you reverse a string in Python without using loops?\n",
    "\n",
    "string = \"shashank\"\n",
    "string  = string[::-1]\n",
    "print(string)\n"
   ]
  },
  {
   "cell_type": "code",
   "execution_count": 1,
   "metadata": {},
   "outputs": [],
   "source": [
    "# 13. How does Python's defaultdict work, and how is it different from a normal dictionary?\n",
    "\n",
    "pass"
   ]
  },
  {
   "cell_type": "code",
   "execution_count": null,
   "metadata": {},
   "outputs": [
    {
     "data": {
      "text/plain": [
       "-2425504083096778103"
      ]
     },
     "execution_count": 10,
     "metadata": {},
     "output_type": "execute_result"
    }
   ],
   "source": [
    "# 14. Why is hash('Hello') different on different runs of Python?\n",
    "\n",
    "hash('Hello')\n",
    "\n",
    "# Python built-in hash() function uses hash randomization for strings and other objects by default."
   ]
  },
  {
   "cell_type": "code",
   "execution_count": 11,
   "metadata": {},
   "outputs": [
    {
     "name": "stdout",
     "output_type": "stream",
     "text": [
      "{2, 3}\n"
     ]
    }
   ],
   "source": [
    "# 15. What does print({1, 2, 3} & {2, 3, 4}) return?\n",
    "\n",
    "print({1, 2, 3} & {2, 3, 4})"
   ]
  },
  {
   "cell_type": "code",
   "execution_count": 13,
   "metadata": {},
   "outputs": [
    {
     "name": "stdout",
     "output_type": "stream",
     "text": [
      "Hello, shashank!\n"
     ]
    }
   ],
   "source": [
    "# 16. How can you create a function with variable-length arguments?\n",
    "\n",
    "def greet(*names):\n",
    "    for name in names:\n",
    "        print(f\"Hello, {name}!\")\n",
    "\n",
    "greet(\"shashank\")"
   ]
  },
  {
   "cell_type": "code",
   "execution_count": 14,
   "metadata": {},
   "outputs": [],
   "source": [
    "# 17. What does the @staticmethod decorator do?\n"
   ]
  },
  {
   "cell_type": "code",
   "execution_count": 15,
   "metadata": {},
   "outputs": [
    {
     "data": {
      "text/plain": [
       "'\\n    Python uses automatic garbage collection to manage memory and clean up objects that are no longer in use. \\n    This prevents memory leaks and optimizes performance.\\n'"
      ]
     },
     "execution_count": 15,
     "metadata": {},
     "output_type": "execute_result"
    }
   ],
   "source": [
    "# 18. Explain Python's garbage collection mechanism.\n",
    "\n",
    "\"\"\"\n",
    "    Python uses automatic garbage collection to manage memory and clean up objects that are no longer in use. \n",
    "    This prevents memory leaks and optimizes performance.\n",
    "\"\"\""
   ]
  },
  {
   "cell_type": "code",
   "execution_count": null,
   "metadata": {},
   "outputs": [
    {
     "name": "stdout",
     "output_type": "stream",
     "text": [
      "True\n"
     ]
    }
   ],
   "source": [
    "# 19. What does a = 256; b = 256; print(a is b) return? Why?\n",
    "\n",
    "a = 256\n",
    "b = 256\n",
    "\n",
    "print(a is b)\n",
    "\n",
    "# In Python, small integers (between -5 and 256) are interned (cached) for performance reasons."
   ]
  },
  {
   "cell_type": "code",
   "execution_count": null,
   "metadata": {},
   "outputs": [],
   "source": [
    "# 20. How does Python handle mutable default arguments in functions?\n",
    "\n",
    "# In Python, mutable default arguments in functions can lead to unexpected behavior because they are evaluated only once at the time of function definition—not each time the function is called."
   ]
  }
 ],
 "metadata": {
  "kernelspec": {
   "display_name": "Python 3",
   "language": "python",
   "name": "python3"
  },
  "language_info": {
   "codemirror_mode": {
    "name": "ipython",
    "version": 3
   },
   "file_extension": ".py",
   "mimetype": "text/x-python",
   "name": "python",
   "nbconvert_exporter": "python",
   "pygments_lexer": "ipython3",
   "version": "3.12.3"
  }
 },
 "nbformat": 4,
 "nbformat_minor": 2
}
